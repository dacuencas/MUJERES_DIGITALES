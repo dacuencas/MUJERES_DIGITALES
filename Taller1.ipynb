{
  "nbformat": 4,
  "nbformat_minor": 0,
  "metadata": {
    "colab": {
      "name": "Taller1.ipynb",
      "provenance": [],
      "authorship_tag": "ABX9TyO7dRBP0ObexzN6gSM+noAm",
      "include_colab_link": true
    },
    "kernelspec": {
      "name": "python3",
      "display_name": "Python 3"
    },
    "language_info": {
      "name": "python"
    }
  },
  "cells": [
    {
      "cell_type": "markdown",
      "metadata": {
        "id": "view-in-github",
        "colab_type": "text"
      },
      "source": [
        "<a href=\"https://colab.research.google.com/github/dacuencas/MUJERES_DIGITALES/blob/main/Taller1.ipynb\" target=\"_parent\"><img src=\"https://colab.research.google.com/assets/colab-badge.svg\" alt=\"Open In Colab\"/></a>"
      ]
    },
    {
      "cell_type": "markdown",
      "metadata": {
        "id": "RCZvnS4X8HH_"
      },
      "source": [
        "***PUNTO 1***\n",
        "El bootcamp comenzo el 26 de julio del 2021, se les explico a las estudiantes que se les evaluaría de la siguinte forma:\n",
        "\n",
        "Tareas=10%\n",
        "Talleres =25%\n",
        "Asistencia= 5%\n",
        "Participación=15%\n",
        "Proyecto=45%\n",
        "Teniendo en cuenta las ponderaciones de calificación del bootcamp, las estudiantes deciden desarrollar un programa que les permita saber cuanto tendrían que sacar en el proyecto para tener una definitiva de 3.7 mínimo en el curso. Si las notas hasta el momento son las siguientes:\n",
        "\n",
        "Tareas =4.5\n",
        "Talleres=4\n",
        "Asistencia=5\n",
        "Participación=4 ¿Cuanto tendrían que sacar en el proyecto?."
      ]
    },
    {
      "cell_type": "code",
      "metadata": {
        "id": "HmQALqVzzD6W",
        "colab": {
          "base_uri": "https://localhost:8080/"
        },
        "outputId": "31bd61b3-ed11-49b9-ab51-fb6343098d56"
      },
      "source": [
        "\n",
        "tareas=4.5*0.10\n",
        "talleres=4*0.25\n",
        "asistencia=5*0.05\n",
        "participacion=4*0.15\n",
        "proyecto=0.45\n",
        "definitiva=3.7\n",
        "acumulado=round(definitiva-(tareas+talleres+asistencia+participacion),1)\n",
        "proyecto=acumulado/proyecto\n",
        "print(\"La Nota que tengo que sacar en el Proyecto es de\",round(proyecto,1),\"para tener una definitiva de\",definitiva)"
      ],
      "execution_count": 5,
      "outputs": [
        {
          "output_type": "stream",
          "text": [
            "La Nota que tengo que sacar en el Proyecto es de 3.1 para tener una definitiva de 3.7\n"
          ],
          "name": "stdout"
        }
      ]
    },
    {
      "cell_type": "markdown",
      "metadata": {
        "id": "jhy-fhng7MFR"
      },
      "source": [
        "***PUNTO 2***\n",
        "La empresa VIVAFLY tiene como eslogan: \"Satisfacción y plenitud en un solo viaje\". Por lo cual, uno de los medios que utiliza VIVAFLY para mantener la satisfacción al cliente, es realizar rifas a lo largo del año para fomentar mayor unión y entendimiento. Para el mes de septiembre, por motivos de celebración de Amor y Amistad, la empresa decide sortear los siguientes viajes a los 5 clientes con más antigüedad:\n",
        "\n",
        "Viaje todo incluído para dos personas a San Andrés(Premio 1)\n",
        "un pasadía a los termales de San Vicente incluyendo almuerzo (Premio 2)\n",
        "Viaje todo incluido para dos personas a Santa Marta (Premio 3)\n",
        "Pasadía al desierto de Tatacoa (Sin incluír alimentación) (Premio 4)\n",
        "La empresa utilizará para el sorteo el método de balotera. A continuación se menciona el color ganador por premio:\n",
        "\n",
        "Rosado= Premio 1\n",
        "Verde=Premio 2\n",
        "Azul=Premio 3\n",
        "Gris=Premio 4\n",
        "Roja=No hay premio\n",
        "La probabilidad de sacar una balota\n",
        "\n",
        "rosada es del 15%\n",
        "verde 20%\n",
        "azul 5%\n",
        "gris 20%\n",
        "roja 40%.\n",
        "Adicionalmente, para las personas que SI obtengan premio, recibirán un bono en efectivo del porcentaje que represente la probabilidad de ganar con cada balota sobre un valor de 1.000.000 pesos. Sin embargo, se debe tener en cuenta que, Si al aplicar el porcentaje arroja un valor inferior a 120.000, no se les dará el bono en efectivo sino dos boletas de cine 4D para la película en estreno del mes incluyendo un solo combo de palomitas.Por otro lado, para la persona que saque balota roja obtendrá un premio de 120.000 pesos.\n",
        "\n",
        "Nota: El sorteo se realiza con el método de NO reemplazo. Es decir, la probabilidad de sacar cada una de las balotas es la misma para los 5 clientes. Porque a medida que vayan sacando las balotas ganadoras estás se regresan a la balotera y se mantendrá la misma cantidad de balotas.\n",
        "\n",
        "Teniendo en cuenta lo anterior.Se le pide a la analista que genere un código donde se pueda observar las respectivas premiaciones.\n",
        "\n",
        "las entradas deben ser las siguientes:"
      ]
    },
    {
      "cell_type": "code",
      "metadata": {
        "colab": {
          "base_uri": "https://localhost:8080/"
        },
        "id": "GF1zSshd7Qyd",
        "outputId": "97d672eb-c006-47dc-a04e-f1f47b92b2b5"
      },
      "source": [
        "concursante=input(\"Nombre del concursante: \")\n",
        "balota=input(\"Ingrese el color de la balota: \")\n",
        "\n",
        "premio1=\"viaje todo incluído para dos personas a San Andrés y un bono en efectivo de 150.000 pesos\"\n",
        "premio2=\"una pasadía a los termales de San Vicente incluyendo almuerzo y un bono en efectivo de 200.000 pesos\"\n",
        "premio3=\"viaje todo incluido para dos personas a Santa Marta y dos boletos para cine en 4D con un solo combo de palomitas\"\n",
        "premio4=\"pasadía al desierto de Tatacoa (Sin incluír alimentación) y un bono en efectivo de 200.000 pesos\"\n",
        "premio5=\"un bono por 120.000 pesos\"\n",
        "\n",
        "if (balota == \"rosado\"):\n",
        "  print('La empresa VIVAFLY se complace en anunciar que el(la) participante',concursante, 'Has ganado',premio1, 'en nuestro sorteo de viajes de AMOR y AMISTAD')\n",
        "if (balota == \"verde\"):\n",
        "  print('La empresa VIVAFLY se complace en anunciar que el(la) participante',concursante, 'Has ganado',premio2, 'en nuestro sorteo de viajes de AMOR y AMISTAD')\n",
        "if (balota == \"azul\"):\n",
        "  print('La empresa VIVAFLY se complace en anunciar que el(la) participante',concursante, 'Has ganado',premio3, 'en nuestro sorteo de viajes de AMOR y AMISTAD')\n",
        "if (balota == \"gris\"):\n",
        "  print('La empresa VIVAFLY se complace en anunciar que el(la) participante',concursante, 'Has ganado',premio4, 'en nuestro sorteo de viajes de AMOR y AMISTAD')\n",
        "if (balota == \"roja\"):\n",
        "  print('La empresa VIVAFLY se complace en anunciar que el(la) participante',concursante, 'Has ganado',premio5, 'en nuestro sorteo de viajes de AMOR y AMISTAD')\n",
        "else:\n",
        "  print('No se encontro el color de la balota')"
      ],
      "execution_count": 2,
      "outputs": [
        {
          "output_type": "stream",
          "text": [
            "Nombre del concursante: laura\n",
            "Ingrese el color de la balota: rosado\n",
            "La empresa VIVAFLY se complace en anunciar que el(la) participante laura Has ganado viaje todo incluído para dos personas a San Andrés y un bono en efectivo de 150.000 pesos en nuestro sorteo de viajes de AMOR y AMISTAD\n",
            "No se encontro el color de la balota\n"
          ],
          "name": "stdout"
        }
      ]
    },
    {
      "cell_type": "markdown",
      "metadata": {
        "id": "X9WRyrRP7LPA"
      },
      "source": [
        ""
      ]
    }
  ]
}