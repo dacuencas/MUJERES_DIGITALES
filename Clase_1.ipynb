{
  "nbformat": 4,
  "nbformat_minor": 0,
  "metadata": {
    "colab": {
      "name": "Clase_1.ipynb",
      "provenance": [],
      "authorship_tag": "ABX9TyOUj9d6K+YKTeSjiaN90BOx",
      "include_colab_link": true
    },
    "kernelspec": {
      "name": "python3",
      "display_name": "Python 3"
    },
    "language_info": {
      "name": "python"
    }
  },
  "cells": [
    {
      "cell_type": "markdown",
      "metadata": {
        "id": "view-in-github",
        "colab_type": "text"
      },
      "source": [
        "<a href=\"https://colab.research.google.com/github/dacuencas/MUJERES_DIGITALES/blob/main/Clase_1.ipynb\" target=\"_parent\"><img src=\"https://colab.research.google.com/assets/colab-badge.svg\" alt=\"Open In Colab\"/></a>"
      ]
    },
    {
      "cell_type": "code",
      "metadata": {
        "id": "DI5r6WP55dO5"
      },
      "source": [
        ""
      ],
      "execution_count": null,
      "outputs": []
    },
    {
      "cell_type": "markdown",
      "metadata": {
        "id": "HM9Y5u_voggM"
      },
      "source": [
        "**Introducción**\n",
        "\n",
        "---\n",
        "Para manejar un código limpio en python se puede seguir las siguientes recomendaciones:\n",
        "1.manejar siempre minuscula\n",
        "2.Se les puede añadir números\n",
        "3.Aparecerá error si no están seguidos la declaración de la variable con el número asignado. Ejemplo ana1(correcto) ana 1 (incorrecto-error)\n",
        "En python hay varios tipos de datos compuestos y están disponibles por defecto en los intérpretes.\n",
        "**¿De que tipos?**\n",
        "1.Númericos\n",
        "2.Secuencias\n",
        "3.Mapeos\n",
        "4.Conjuntos usados para agrupar otros valores.\n",
        "\n",
        "**Diferencia entre constantes y variables**\n",
        "En matemáticas llamamos constante a una magnitud que no cambia con el paso del tiempo.\n",
        "Ejemplo: Contabilidad: Gastos Fijos_Muebles  de oficina\n",
        "Ejemplo 2:6\n",
        "Por otro lado, el concepto de variable, como la cantidad es susceptible a tomar distintos valores númericos\n",
        "EJEMPLO:"
      ]
    },
    {
      "cell_type": "code",
      "metadata": {
        "id": "glu3WIV3q8Ga",
        "outputId": "9775ce6f-d68c-4a8d-b725-452452f92e07",
        "colab": {
          "base_uri": "https://localhost:8080/"
        }
      },
      "source": [
        "x=5\n",
        "print(x)"
      ],
      "execution_count": 2,
      "outputs": [
        {
          "output_type": "stream",
          "text": [
            "5\n"
          ],
          "name": "stdout"
        }
      ]
    },
    {
      "cell_type": "markdown",
      "metadata": {
        "id": "72BXXDyOrak_"
      },
      "source": [
        "**Tipos de datos**\n",
        "\n",
        "---\n",
        "**Enteros:**\n",
        "Son los números que no tienen decimales, pueden ser tanto positivos como negativos.\n"
      ]
    },
    {
      "cell_type": "code",
      "metadata": {
        "id": "qq_pXe2jrraC",
        "outputId": "3d7c1c09-b6db-427d-dc7e-32946118e33c",
        "colab": {
          "base_uri": "https://localhost:8080/"
        }
      },
      "source": [
        "a=int(3)\n",
        "print(a)"
      ],
      "execution_count": 3,
      "outputs": [
        {
          "output_type": "stream",
          "text": [
            "3\n"
          ],
          "name": "stdout"
        }
      ]
    },
    {
      "cell_type": "code",
      "metadata": {
        "id": "tBZwrqvGoePn",
        "outputId": "9da0c1c0-8ae6-4dee-e5e7-cadea6347e61",
        "colab": {
          "base_uri": "https://localhost:8080/"
        }
      },
      "source": [
        "a=int(3.964)\n",
        "print(a)"
      ],
      "execution_count": 4,
      "outputs": [
        {
          "output_type": "stream",
          "text": [
            "3\n"
          ],
          "name": "stdout"
        }
      ]
    },
    {
      "cell_type": "code",
      "metadata": {
        "id": "0uJdOZ5qsU78"
      },
      "source": [
        ""
      ],
      "execution_count": null,
      "outputs": []
    },
    {
      "cell_type": "markdown",
      "metadata": {
        "id": "LVei4kjTshhb"
      },
      "source": [
        "El comando int es para hacer alusión a números enteros. Mientras que el comando float permite valores con decímales."
      ]
    },
    {
      "cell_type": "code",
      "metadata": {
        "id": "jeCknJnKsvtN",
        "outputId": "2f2e16da-6da9-404b-9a12-70ac8b385e31",
        "colab": {
          "base_uri": "https://localhost:8080/"
        }
      },
      "source": [
        "b=float(8.23)\n",
        "print(b)"
      ],
      "execution_count": 5,
      "outputs": [
        {
          "output_type": "stream",
          "text": [
            "8.23\n"
          ],
          "name": "stdout"
        }
      ]
    },
    {
      "cell_type": "markdown",
      "metadata": {
        "id": "QLAegmWHs6P4"
      },
      "source": [
        "**Tipo Cadena**\n",
        "\n",
        "-----\n",
        "Las cadenas son texto encerrado entre comillas (simples o dobles) y se pueden conformar de diferentes caracteres (númericos, albéticos, especiales #$+*%).\n",
        "Tener en cuenta, las cadenas admiten operadores como la suma y la resta.(Variable string)"
      ]
    },
    {
      "cell_type": "code",
      "metadata": {
        "id": "l2YzcynWtlCc",
        "outputId": "b22bc09f-7b2c-4965-aca1-2a8ddf91dd03",
        "colab": {
          "base_uri": "https://localhost:8080/"
        }
      },
      "source": [
        "val1=\"Luisa\"\n",
        "print(val1)\n",
        "val2=\"Hola Mundo\"\n",
        "print(val2)"
      ],
      "execution_count": 8,
      "outputs": [
        {
          "output_type": "stream",
          "text": [
            "Luisa\n",
            "Hola Mundo\n"
          ],
          "name": "stdout"
        }
      ]
    },
    {
      "cell_type": "code",
      "metadata": {
        "id": "tQPAz8r3t-3z",
        "outputId": "d7c70e42-7202-44ab-aa2d-3f3352925bf3",
        "colab": {
          "base_uri": "https://localhost:8080/"
        }
      },
      "source": [
        "n=\"Aprender\"\n",
        "z=\"Python\"\n",
        "w=\"Aprender Python\"\n",
        "print(w)"
      ],
      "execution_count": 10,
      "outputs": [
        {
          "output_type": "stream",
          "text": [
            "Aprender Python\n"
          ],
          "name": "stdout"
        }
      ]
    },
    {
      "cell_type": "markdown",
      "metadata": {
        "id": "Q5B18e7HwzyR"
      },
      "source": [
        ""
      ]
    },
    {
      "cell_type": "code",
      "metadata": {
        "id": "FcF3WaWFxHBn",
        "outputId": "b4d7cee5-b591-46f2-e959-c76d47094908",
        "colab": {
          "base_uri": "https://localhost:8080/"
        }
      },
      "source": [
        "q=\"5\"\n",
        "p=\"2\"\n",
        "b=int(q)\n",
        "c=int(p)\n",
        "print(b-c)"
      ],
      "execution_count": 11,
      "outputs": [
        {
          "output_type": "stream",
          "text": [
            "3\n"
          ],
          "name": "stdout"
        }
      ]
    },
    {
      "cell_type": "markdown",
      "metadata": {
        "id": "Z6yGF-OXyajC"
      },
      "source": [
        "**Tipo Booleanos:**\n",
        "Esté tipo de variable solo tendra un valor de falso o verdaderso **NOTA** son muy usados en condiciones y blucles.\n"
      ]
    },
    {
      "cell_type": "code",
      "metadata": {
        "id": "xRnHtQ40y0Kt",
        "outputId": "f8f2f12a-6b8b-4646-e39d-594c5419c2c4",
        "colab": {
          "base_uri": "https://localhost:8080/"
        }
      },
      "source": [
        "lola=True\n",
        "print(\"El valor es verdadero:\",lola,\",el cual es de tipo\", type(lola))"
      ],
      "execution_count": 13,
      "outputs": [
        {
          "output_type": "stream",
          "text": [
            "El valor es verdadero: True ,el cual es de tipo <class 'bool'>\n"
          ],
          "name": "stdout"
        }
      ]
    },
    {
      "cell_type": "markdown",
      "metadata": {
        "id": "z45F4XoT0KdZ"
      },
      "source": [
        "Python cuent con tipos de datos que admiten colecciones:\n",
        "1.Listas\n",
        "2.Tuplas\n",
        "3.Diccionarios\n",
        "**Tipo de Conjuntos:**Son una colección de datos sin elementos que repiten.\n"
      ]
    },
    {
      "cell_type": "code",
      "metadata": {
        "id": "PL1FWLsI0nds",
        "outputId": "c2527fec-5f11-428e-cced-294c9a59e39e",
        "colab": {
          "base_uri": "https://localhost:8080/"
        }
      },
      "source": [
        "fru='pera','manzana','naranja'\n",
        "color='morado','blanco','azul'\n",
        "print(fru,color)\n"
      ],
      "execution_count": 14,
      "outputs": [
        {
          "output_type": "stream",
          "text": [
            "('pera', 'manzana', 'naranja') ('morado', 'blanco', 'azul')\n"
          ],
          "name": "stdout"
        }
      ]
    },
    {
      "cell_type": "markdown",
      "metadata": {
        "id": "Nxv0J4WD1EN6"
      },
      "source": [
        "**Tipo de Listas**\n",
        "Son listas las que almacenan vectores.\n",
        "-Las listas empiezan a nombrarse desde el elemento cero. \n",
        "-Ejemplos de las listas en Python:"
      ]
    },
    {
      "cell_type": "code",
      "metadata": {
        "id": "S-ak2eor1PAW",
        "outputId": "45f5d46a-3541-48e7-9256-b9d849786194",
        "colab": {
          "base_uri": "https://localhost:8080/"
        }
      },
      "source": [
        "ines=['5','uva','lila','perro']\n",
        "print(ines)\n",
        "fe=ines[0:3:2]\n",
        "print(fe)"
      ],
      "execution_count": 16,
      "outputs": [
        {
          "output_type": "stream",
          "text": [
            "['5', 'uva', 'lila', 'perro']\n",
            "['5', 'lila']\n"
          ],
          "name": "stdout"
        }
      ]
    },
    {
      "cell_type": "code",
      "metadata": {
        "id": "RxO34S-J3hUC",
        "outputId": "6668b752-f22f-4947-9107-fd13819cbf5e",
        "colab": {
          "base_uri": "https://localhost:8080/"
        }
      },
      "source": [
        "ines=['5','uva','lila','perro','celular','micro','botella','tetero','10']\n",
        "print(ines)\n",
        "fe=ines[0:6]\n",
        "print(fe)"
      ],
      "execution_count": 17,
      "outputs": [
        {
          "output_type": "stream",
          "text": [
            "['5', 'uva', 'lila', 'perro', 'celular', 'micro', 'botella', 'tetero', '10']\n",
            "['5', 'uva', 'lila', 'perro', 'celular', 'micro']\n"
          ],
          "name": "stdout"
        }
      ]
    },
    {
      "cell_type": "markdown",
      "metadata": {
        "id": "PmRr8Kuj4KTh"
      },
      "source": [
        "**Tipo Tuplas**\n",
        "---\n",
        "Es una lista que no se puede modificar después de la creación de esta:\n",
        "Tuplas Anidadas:Agrupación(Tuplas).\n"
      ]
    },
    {
      "cell_type": "code",
      "metadata": {
        "id": "mep0-n3q4flP",
        "outputId": "74f7b861-d30d-42e9-b27f-034ad39e9c99",
        "colab": {
          "base_uri": "https://localhost:8080/"
        }
      },
      "source": [
        "tupla=23,28,'hello'\n",
        "print(tupla)"
      ],
      "execution_count": 18,
      "outputs": [
        {
          "output_type": "stream",
          "text": [
            "(23, 28, 'hello')\n"
          ],
          "name": "stdout"
        }
      ]
    },
    {
      "cell_type": "markdown",
      "metadata": {
        "id": "CE-1xMks56U_"
      },
      "source": [
        "**Tipo Diccionarios**\n",
        "---\n",
        "Define los datos uno a uno entre un campo(ID - Identificador-Clave)y un valor:"
      ]
    },
    {
      "cell_type": "code",
      "metadata": {
        "id": "yW_nxuKL6zA5",
        "outputId": "27741b01-b8d8-4aab-9364-142064207339",
        "colab": {
          "base_uri": "https://localhost:8080/"
        }
      },
      "source": [
        "datos_b={\n",
        "    \"nombres\":\"Diana\",\n",
        "    \"apellidos\":\"Perea\",\n",
        "    \"cedula\":\"1032454231\",\n",
        "    \"est_civil\":\"Viuda\",\n",
        "    \"lugar_nacimiento\":\"Bogota\",\n",
        "    \"fecha_nacimiento\":\"24/12/2020\",\n",
        "}\n",
        "print(\"ID del diccionario\", datos_b.keys())\n",
        "print(\"ID del diccionario\", datos_b.values())\n",
        "print(\"ID del diccionario\", datos_b.items())\n",
        "print(\"cedula de ciudadanía:\", datos_b['cedula'])"
      ],
      "execution_count": 25,
      "outputs": [
        {
          "output_type": "stream",
          "text": [
            "ID del diccionario dict_keys(['nombres', 'apellidos', 'cedula', 'est_civil', 'lugar_nacimiento', 'fecha_nacimiento'])\n",
            "ID del diccionario dict_values(['Diana', 'Perea', '1032454231', 'Viuda', 'Bogota', '24/12/2020'])\n",
            "ID del diccionario dict_items([('nombres', 'Diana'), ('apellidos', 'Perea'), ('cedula', '1032454231'), ('est_civil', 'Viuda'), ('lugar_nacimiento', 'Bogota'), ('fecha_nacimiento', '24/12/2020')])\n",
            "cedula de ciudadanía: 1032454231\n"
          ],
          "name": "stdout"
        }
      ]
    },
    {
      "cell_type": "markdown",
      "metadata": {
        "id": "Nkv-s4p-88EO"
      },
      "source": [
        "**Ejemplo práctico(caracteristicas de carros):**"
      ]
    },
    {
      "cell_type": "code",
      "metadata": {
        "id": "6dOmbfkc9D6T",
        "outputId": "405e31ea-b765-401f-dfd4-6af943092d56",
        "colab": {
          "base_uri": "https://localhost:8080/"
        }
      },
      "source": [
        "carros_0={}\n",
        "carros_0['tam']='grande'\n",
        "carros_0['color']='negro'\n",
        "carros_0['marca']='chevrolet'\n",
        "carros_0['precio']=37\n",
        "\n",
        "carros_1={}\n",
        "carros_1['tam']='pequeño'\n",
        "carros_1['color']='blanco'\n",
        "carros_1['marca']='mazda'\n",
        "carros_1['precio']=60\n",
        "print(carros_0)\n",
        "print(carros_1)\n",
        "\n",
        "compra0=carros_0['precio']\n",
        "compra1=carros_1['precio']\n",
        "compratotal=compra0+compra1\n",
        "print(\"La compra total fue de:\", compratotal)"
      ],
      "execution_count": 24,
      "outputs": [
        {
          "output_type": "stream",
          "text": [
            "{'tam': 'grande', 'color': 'negro', 'marca': 'chevrolet', 'precio': 37}\n",
            "{'tam': 'pequeño', 'color': 'blanco', 'marca': 'mazda', 'precio': 60}\n",
            "La compra total fue de: 97\n"
          ],
          "name": "stdout"
        }
      ]
    }
  ]
}