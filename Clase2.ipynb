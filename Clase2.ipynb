{
  "nbformat": 4,
  "nbformat_minor": 0,
  "metadata": {
    "colab": {
      "name": "Clase2.ipynb",
      "provenance": [],
      "authorship_tag": "ABX9TyOe/VUhcexnR1bFwqY6Zwnb",
      "include_colab_link": true
    },
    "kernelspec": {
      "name": "python3",
      "display_name": "Python 3"
    },
    "language_info": {
      "name": "python"
    }
  },
  "cells": [
    {
      "cell_type": "markdown",
      "metadata": {
        "id": "view-in-github",
        "colab_type": "text"
      },
      "source": [
        "<a href=\"https://colab.research.google.com/github/dacuencas/MUJERES_DIGITALES/blob/main/Clase2.ipynb\" target=\"_parent\"><img src=\"https://colab.research.google.com/assets/colab-badge.svg\" alt=\"Open In Colab\"/></a>"
      ]
    },
    {
      "cell_type": "code",
      "metadata": {
        "id": "osSl1BM7oHP4"
      },
      "source": [
        "**Operadores Aritmeticos**\n",
        "Los operadores permiten realizar diferentes"
      ],
      "execution_count": null,
      "outputs": []
    },
    {
      "cell_type": "markdown",
      "metadata": {
        "id": "DSo10AIywFTK"
      },
      "source": [
        "**suma y resta**\n",
        "Símbolo suma(+) el cual se utilizara en medio de la declaración de las variables a operar."
      ]
    },
    {
      "cell_type": "code",
      "metadata": {
        "colab": {
          "base_uri": "https://localhost:8080/"
        },
        "id": "1Us48W9rwTws",
        "outputId": "c8fcfcb0-5cf5-4efa-cd10-160360d14284"
      },
      "source": [
        "print(10-300)\n",
        "a=20\n",
        "b=35\n",
        "print(a-b)"
      ],
      "execution_count": 1,
      "outputs": [
        {
          "output_type": "stream",
          "text": [
            "-290\n",
            "-15\n"
          ],
          "name": "stdout"
        }
      ]
    },
    {
      "cell_type": "code",
      "metadata": {
        "colab": {
          "base_uri": "https://localhost:8080/"
        },
        "id": "4mESD2PTwjo-",
        "outputId": "a05b6412-f648-4992-caf3-d586cdda2db4"
      },
      "source": [
        "numero_botellas=12\n",
        "print(numero_botellas + 8)"
      ],
      "execution_count": 2,
      "outputs": [
        {
          "output_type": "stream",
          "text": [
            "20\n"
          ],
          "name": "stdout"
        }
      ]
    },
    {
      "cell_type": "code",
      "metadata": {
        "id": "UJMaJHtcwyg_"
      },
      "source": [
        ""
      ],
      "execution_count": null,
      "outputs": []
    },
    {
      "cell_type": "markdown",
      "metadata": {
        "id": "F81qnkUYpL2T"
      },
      "source": [
        "\n",
        "----\n",
        "\n",
        "\n"
      ]
    }
  ]
}