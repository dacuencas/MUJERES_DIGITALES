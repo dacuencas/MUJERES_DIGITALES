{
  "nbformat": 4,
  "nbformat_minor": 0,
  "metadata": {
    "colab": {
      "name": "Clase2.ipynb",
      "provenance": [],
      "authorship_tag": "ABX9TyOpg/xAwIn0oDIGl7Q8Vifh",
      "include_colab_link": true
    },
    "kernelspec": {
      "name": "python3",
      "display_name": "Python 3"
    },
    "language_info": {
      "name": "python"
    }
  },
  "cells": [
    {
      "cell_type": "markdown",
      "metadata": {
        "id": "view-in-github",
        "colab_type": "text"
      },
      "source": [
        "<a href=\"https://colab.research.google.com/github/dacuencas/MUJERES_DIGITALES/blob/main/Clase2.ipynb\" target=\"_parent\"><img src=\"https://colab.research.google.com/assets/colab-badge.svg\" alt=\"Open In Colab\"/></a>"
      ]
    },
    {
      "cell_type": "code",
      "metadata": {
        "id": "osSl1BM7oHP4"
      },
      "source": [
        "**Operadores Aritmeticos**\n",
        "Los operadores permiten realizar diferentes"
      ],
      "execution_count": null,
      "outputs": []
    },
    {
      "cell_type": "markdown",
      "metadata": {
        "id": "DSo10AIywFTK"
      },
      "source": [
        "**suma y resta**\n",
        "Símbolo suma(+) el cual se utilizara en medio de la declaración de las variables a operar."
      ]
    },
    {
      "cell_type": "code",
      "metadata": {
        "colab": {
          "base_uri": "https://localhost:8080/"
        },
        "id": "1Us48W9rwTws",
        "outputId": "c8fcfcb0-5cf5-4efa-cd10-160360d14284"
      },
      "source": [
        "print(10-300)\n",
        "a=20\n",
        "b=35\n",
        "print(a-b)"
      ],
      "execution_count": null,
      "outputs": [
        {
          "output_type": "stream",
          "text": [
            "-290\n",
            "-15\n"
          ],
          "name": "stdout"
        }
      ]
    },
    {
      "cell_type": "code",
      "metadata": {
        "colab": {
          "base_uri": "https://localhost:8080/"
        },
        "id": "4mESD2PTwjo-",
        "outputId": "a05b6412-f648-4992-caf3-d586cdda2db4"
      },
      "source": [
        "numero_botellas=12\n",
        "print(numero_botellas + 8)"
      ],
      "execution_count": null,
      "outputs": [
        {
          "output_type": "stream",
          "text": [
            "20\n"
          ],
          "name": "stdout"
        }
      ]
    },
    {
      "cell_type": "code",
      "metadata": {
        "colab": {
          "base_uri": "https://localhost:8080/"
        },
        "id": "UJMaJHtcwyg_",
        "outputId": "bc07bdb3-c825-4ea3-8c87-5f312f8bc2c1"
      },
      "source": [
        "numero_botellas=12\n",
        "numero_botellas=numero_botellas + 8\n",
        "print(numero_botellas)"
      ],
      "execution_count": null,
      "outputs": [
        {
          "output_type": "stream",
          "text": [
            "20\n"
          ],
          "name": "stdout"
        }
      ]
    },
    {
      "cell_type": "markdown",
      "metadata": {
        "id": "lrXH0n3GxVTy"
      },
      "source": [
        "**sumas entre los diferentes tipos de variables**\n",
        "---\n",
        "Recordemos los tipos de variables vistos en la clase de ayer:\n",
        "1. Declaración de variables númericas enteros\n",
        "2. Flotantes(incorpora y flexibiliza decimales)\n",
        "3. Tipo de cadena"
      ]
    },
    {
      "cell_type": "code",
      "metadata": {
        "colab": {
          "base_uri": "https://localhost:8080/"
        },
        "id": "WtOYFFTxx3VF",
        "outputId": "c113c39a-c817-4e54-8955-36b9d486de96"
      },
      "source": [
        "q1=100\n",
        "q2=24.5\n",
        "print(type(q1+q2))"
      ],
      "execution_count": null,
      "outputs": [
        {
          "output_type": "stream",
          "text": [
            "<class 'float'>\n"
          ],
          "name": "stdout"
        }
      ]
    },
    {
      "cell_type": "code",
      "metadata": {
        "colab": {
          "base_uri": "https://localhost:8080/"
        },
        "id": "V6ma0TEUyEgE",
        "outputId": "f877be5f-178b-4adc-d102-144f8e773297"
      },
      "source": [
        "v1=\"quiero\"\n",
        "v2=\"un celular\"\n",
        "v3=v1+\" \"+v2\n",
        "print(v1+\" \"+v2)"
      ],
      "execution_count": null,
      "outputs": [
        {
          "output_type": "stream",
          "text": [
            "quiero un celular\n"
          ],
          "name": "stdout"
        }
      ]
    },
    {
      "cell_type": "code",
      "metadata": {
        "colab": {
          "base_uri": "https://localhost:8080/"
        },
        "id": "PAlfUwksyp9s",
        "outputId": "79d7957c-2aed-44da-b306-40bca4b2009e"
      },
      "source": [
        "xq2=235\n",
        "xq3=400\n",
        "print(xq2-xq3)\n",
        "\n",
        "xq2=24.66\n",
        "xq3=4\n",
        "print(type(xq2-xq3))"
      ],
      "execution_count": null,
      "outputs": [
        {
          "output_type": "stream",
          "text": [
            "-165\n",
            "<class 'float'>\n"
          ],
          "name": "stdout"
        }
      ]
    },
    {
      "cell_type": "markdown",
      "metadata": {
        "id": "im3yi5QIzi6t"
      },
      "source": [
        "**IMPORTANTE**\n",
        "La resta no funciona directamente para la variable tipo cadena."
      ]
    },
    {
      "cell_type": "code",
      "metadata": {
        "id": "L1fftmt00EcN"
      },
      "source": [
        ""
      ],
      "execution_count": null,
      "outputs": []
    },
    {
      "cell_type": "markdown",
      "metadata": {
        "id": "kCqGnzhx0s5D"
      },
      "source": [
        "**Multiplicación**\n",
        "----\n",
        "Es la suma de varias veces un número, cantidad de veces indicadas por el otro numero. El símbolo que se maneja es (*)"
      ]
    },
    {
      "cell_type": "code",
      "metadata": {
        "colab": {
          "base_uri": "https://localhost:8080/"
        },
        "id": "XYXG_pECzOiV",
        "outputId": "e6a47013-f71b-42fd-d32d-e539dc105648"
      },
      "source": [
        "cali=5\n",
        "palmira=6\n",
        "print(cali*palmira)"
      ],
      "execution_count": null,
      "outputs": [
        {
          "output_type": "stream",
          "text": [
            "30\n"
          ],
          "name": "stdout"
        }
      ]
    },
    {
      "cell_type": "markdown",
      "metadata": {
        "id": "vK65okAV1N0I"
      },
      "source": [
        "**IMPORTANTE**\n",
        "Se aplica la ley conmutativa.(orden de factores no altera el producto. Aplica para suma y multiplicación).\n",
        "\n"
      ]
    },
    {
      "cell_type": "code",
      "metadata": {
        "colab": {
          "base_uri": "https://localhost:8080/"
        },
        "id": "R0cQHyib1mdZ",
        "outputId": "720f5f03-ee4c-40fb-8787-f667a1cddc89"
      },
      "source": [
        "cali=5\n",
        "palmira=5\n",
        "print(palmira*cali)\n"
      ],
      "execution_count": null,
      "outputs": [
        {
          "output_type": "stream",
          "text": [
            "25\n"
          ],
          "name": "stdout"
        }
      ]
    },
    {
      "cell_type": "markdown",
      "metadata": {
        "id": "3zmruD5Z1uKs"
      },
      "source": [
        "**División**\n",
        "\n",
        "---\n",
        "El símbolo de división es (/)\n"
      ]
    },
    {
      "cell_type": "code",
      "metadata": {
        "colab": {
          "base_uri": "https://localhost:8080/"
        },
        "id": "Uib6Iulp2Aej",
        "outputId": "3206853b-77e2-4ea1-e35c-9f753f603199"
      },
      "source": [
        "a=20\n",
        "b=4\n",
        "print(a/b, b/a, a+b, a-b)"
      ],
      "execution_count": null,
      "outputs": [
        {
          "output_type": "stream",
          "text": [
            "5.0 0.2 24 16\n"
          ],
          "name": "stdout"
        }
      ]
    },
    {
      "cell_type": "markdown",
      "metadata": {
        "id": "JRoJXe-S3MXj"
      },
      "source": [
        "**Tipo de división**\n",
        "\n",
        "----\n",
        "1.División exacta (//)\n",
        "2.División inexacta (/)"
      ]
    },
    {
      "cell_type": "code",
      "metadata": {
        "colab": {
          "base_uri": "https://localhost:8080/"
        },
        "id": "_KAx-ul83Wfg",
        "outputId": "efc1e91d-f0ab-4e86-932d-afb5f1b8c3d8"
      },
      "source": [
        "print(15//4)\n",
        "print(15/4)"
      ],
      "execution_count": null,
      "outputs": [
        {
          "output_type": "stream",
          "text": [
            "3\n",
            "3.75\n"
          ],
          "name": "stdout"
        }
      ]
    },
    {
      "cell_type": "markdown",
      "metadata": {
        "id": "8rfjgRgN37RI"
      },
      "source": [
        "Nota: Operación de división, al igual que una división normal, **No** es posible dividir entre cero. ¿por que? dado que en matemáticas es un resultado indefinido."
      ]
    },
    {
      "cell_type": "markdown",
      "metadata": {
        "id": "A7Stso_y4VYK"
      },
      "source": [
        "4. Potenciación\n",
        "5. Módulo"
      ]
    },
    {
      "cell_type": "markdown",
      "metadata": {
        "id": "y8X-d-oO4deK"
      },
      "source": [
        "**Potenciación**\n",
        "\n",
        "---\n",
        "En python el simbolo es (**). El primer valor es la base el último el exponente."
      ]
    },
    {
      "cell_type": "code",
      "metadata": {
        "id": "bIp4HXZZ4uNP"
      },
      "source": [
        "print(2**4)"
      ],
      "execution_count": null,
      "outputs": []
    },
    {
      "cell_type": "markdown",
      "metadata": {
        "id": "C4_Xo9vg2Yf3"
      },
      "source": [
        "Para el **print** podemos separar las operaciones por variable con coma lo cual no afectará la impresión en los resultados por operación asignada."
      ]
    },
    {
      "cell_type": "markdown",
      "metadata": {
        "id": "0_ZbZmDm5DrN"
      },
      "source": [
        "**Módulo**\n",
        "---\n",
        "Le llamamos módulo al residuo de la operación de división. El símbolo usado para el residuo es(%).\n",
        "El primer valor es el dividendo y el último es el divisor."
      ]
    },
    {
      "cell_type": "code",
      "metadata": {
        "colab": {
          "base_uri": "https://localhost:8080/"
        },
        "id": "Xm9hHQ-S5WaG",
        "outputId": "c1b6f7f3-2efe-4412-bbcc-f1ee19aacb12"
      },
      "source": [
        "print(88%9)"
      ],
      "execution_count": null,
      "outputs": [
        {
          "output_type": "stream",
          "text": [
            "7\n"
          ],
          "name": "stdout"
        }
      ]
    },
    {
      "cell_type": "markdown",
      "metadata": {
        "id": "nxwAJ7fT8MiG"
      },
      "source": [
        "**OPERADORES DE COMPARACIÓN**\n",
        "---\n",
        "lOS OPERADORES DE COMPRACIÓN, NOS PERMITEN COMPARAR VARIOS VALORES.\n"
      ]
    },
    {
      "cell_type": "markdown",
      "metadata": {
        "id": "4DK0x_fT87K3"
      },
      "source": [
        "**Igualdad**\n",
        "Simbolo en Python es (==)\n"
      ]
    },
    {
      "cell_type": "code",
      "metadata": {
        "colab": {
          "base_uri": "https://localhost:8080/"
        },
        "id": "op57s2Kj9Kp1",
        "outputId": "54a8d97f-e299-4e46-dc32-6a914a403c5c"
      },
      "source": [
        "x=30\n",
        "z=31\n",
        "print(x==z)"
      ],
      "execution_count": null,
      "outputs": [
        {
          "output_type": "stream",
          "text": [
            "False\n"
          ],
          "name": "stdout"
        }
      ]
    },
    {
      "cell_type": "code",
      "metadata": {
        "colab": {
          "base_uri": "https://localhost:8080/"
        },
        "id": "Cf7KFDNL9Su1",
        "outputId": "970d7339-94ee-4438-af5b-8e4a9a24b142"
      },
      "source": [
        "x=\"casa\"\n",
        "z=\"caza\"\n",
        "print(x==z)"
      ],
      "execution_count": null,
      "outputs": [
        {
          "output_type": "stream",
          "text": [
            "False\n"
          ],
          "name": "stdout"
        }
      ]
    },
    {
      "cell_type": "markdown",
      "metadata": {
        "id": "zEIDAm37_iOI"
      },
      "source": [
        "**Diferencia**\n",
        "A diferencia del operador de igualdad, el simbolo esta combinado del símbolo de admiración y el igual (!=)"
      ]
    },
    {
      "cell_type": "code",
      "metadata": {
        "colab": {
          "base_uri": "https://localhost:8080/"
        },
        "id": "8I19axn7_5a-",
        "outputId": "ed12f36f-4ff2-4f7b-9fcf-9e30241ae9fe"
      },
      "source": [
        "x=\"casa\"\n",
        "z=\"caza\"\n",
        "print(x!=z)"
      ],
      "execution_count": null,
      "outputs": [
        {
          "output_type": "stream",
          "text": [
            "True\n"
          ],
          "name": "stdout"
        }
      ]
    },
    {
      "cell_type": "markdown",
      "metadata": {
        "id": "OhDq--IdAGng"
      },
      "source": [
        "**Mayor que**\n",
        "---\n",
        "Símbolo en Python(>)\n",
        "Siempre se designa cual es el mayor o el menor, de acuerdo al valor que está a la izquierda de la operación."
      ]
    },
    {
      "cell_type": "code",
      "metadata": {
        "colab": {
          "base_uri": "https://localhost:8080/"
        },
        "id": "brnumJvhAcgN",
        "outputId": "11f1a257-1c0a-4cea-a30c-908310a97c37"
      },
      "source": [
        "print(30>29.8)\n",
        "print(20>10)"
      ],
      "execution_count": null,
      "outputs": [
        {
          "output_type": "stream",
          "text": [
            "True\n",
            "True\n"
          ],
          "name": "stdout"
        }
      ]
    },
    {
      "cell_type": "markdown",
      "metadata": {
        "id": "J6v8be_bAleI"
      },
      "source": [
        "**MENOR QUE**\n",
        "Caso contrario, el simbolo es (<).\n"
      ]
    },
    {
      "cell_type": "code",
      "metadata": {
        "colab": {
          "base_uri": "https://localhost:8080/"
        },
        "id": "rzKcLhxJAwV6",
        "outputId": "047e078e-9c65-4f93-b83e-963dd811f0d3"
      },
      "source": [
        "x=4\n",
        "y=3\n",
        "print(x<y)"
      ],
      "execution_count": null,
      "outputs": [
        {
          "output_type": "stream",
          "text": [
            "False\n"
          ],
          "name": "stdout"
        }
      ]
    },
    {
      "cell_type": "markdown",
      "metadata": {
        "id": "V2jlJrxPA64H"
      },
      "source": [
        "**Mayor o igual que**\n",
        "---\n",
        "Es similar al mayor que, con la diferencia de que la forma en la que imprimira el resultado verdadero es si ambos números son iguales y flexibiliza dando verdadero de igual forma si el valor de la izquierda es mayor que el de la derecha. El símbolo es (>=).\n"
      ]
    },
    {
      "cell_type": "code",
      "metadata": {
        "id": "HhSF2e8rBoj4"
      },
      "source": [
        "x=10\n",
        "y=5\n",
        "print(x>=y)"
      ],
      "execution_count": null,
      "outputs": []
    },
    {
      "cell_type": "markdown",
      "metadata": {
        "id": "nmyieTR7B23v"
      },
      "source": [
        "**MENOR O IGUAL QUE**\n",
        "El simbolo es (<=)"
      ]
    },
    {
      "cell_type": "code",
      "metadata": {
        "colab": {
          "base_uri": "https://localhost:8080/"
        },
        "id": "g25FBPVuCBqa",
        "outputId": "907b86f8-c3fb-49cf-8dc9-5734b7d47cee"
      },
      "source": [
        "c=45\n",
        "print(c<=46)"
      ],
      "execution_count": null,
      "outputs": [
        {
          "output_type": "stream",
          "text": [
            "True\n"
          ],
          "name": "stdout"
        }
      ]
    },
    {
      "cell_type": "code",
      "metadata": {
        "colab": {
          "base_uri": "https://localhost:8080/"
        },
        "id": "-29rTHjvxNlS",
        "outputId": "917dfd08-b010-43b9-bafe-c6781ac320cd"
      },
      "source": [
        "x=4\n",
        "y=3\n",
        "print(x<y)"
      ],
      "execution_count": null,
      "outputs": [
        {
          "output_type": "stream",
          "text": [
            "False\n"
          ],
          "name": "stdout"
        }
      ]
    },
    {
      "cell_type": "markdown",
      "metadata": {
        "id": "TFCMFQjrCkgW"
      },
      "source": [
        "Tener en cuenta:En comparaciones los resultados que nos arrojan siempre es de tipo booleano es decir: (true or false)."
      ]
    },
    {
      "cell_type": "markdown",
      "metadata": {
        "id": "mAO_weBmC_mC"
      },
      "source": [
        "**operadores lógicos**\n",
        "Python incluye tres operadores lógicos base:\n",
        "1. AND\n",
        "2. OR\n",
        "3. NOT (no)\n",
        "Los operadores lógicos funcionan con valores o variables booleanas, asu vez, devuelven como respuesta valores booleanos."
      ]
    },
    {
      "cell_type": "markdown",
      "metadata": {
        "id": "_h_HweKwynA2"
      },
      "source": [
        "**OPERADOR AND**\n",
        "---\n",
        "Esté operador solo devolverá (verdadero) si ambos valores lo son ¿como usar el operador AND"
      ]
    },
    {
      "cell_type": "code",
      "metadata": {
        "id": "loVqKKtiAQPq"
      },
      "source": [
        ""
      ],
      "execution_count": null,
      "outputs": []
    }
  ]
}